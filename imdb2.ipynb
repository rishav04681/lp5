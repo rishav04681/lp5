{
 "cells": [
  {
   "cell_type": "code",
   "execution_count": 2,
   "id": "6f356d1e-77f3-435c-9949-5cd13eb8980f",
   "metadata": {},
   "outputs": [],
   "source": [
    "import numpy as np\n",
    "from tensorflow.keras.datasets import imdb\n",
    "from tensorflow.keras.preprocessing.sequence import pad_sequences\n",
    "from tensorflow.keras.models import Sequential\n",
    "from tensorflow.keras.layers import Embedding, Bidirectional, LSTM, Dense, Dropout, Conv1D,GlobalMaxPooling1D\n",
    "from tensorflow.keras.callbacks import EarlyStopping\n",
    "from tensorflow.keras.optimizers import Adam\n"
   ]
  },
  {
   "cell_type": "code",
   "execution_count": 3,
   "id": "a0c35f4c-373d-46af-bfc4-8fb7a83e2a29",
   "metadata": {},
   "outputs": [],
   "source": [
    "\n",
    "vocab_size = 20000\n",
    "max_length = 500\n",
    "\n",
    "\n",
    "(x_train, y_train), (x_test, y_test) = imdb.load_data(num_words=vocab_size)\n",
    "\n",
    "\n",
    "x_train = pad_sequences(x_train, maxlen=max_length, padding='post')\n",
    "x_test = pad_sequences(x_test, maxlen=max_length, padding='post')\n"
   ]
  },
  {
   "cell_type": "code",
   "execution_count": 4,
   "id": "93235140-7461-4365-b7b7-503dc7006bff",
   "metadata": {},
   "outputs": [
    {
     "name": "stderr",
     "output_type": "stream",
     "text": [
      "/opt/anaconda3/lib/python3.12/site-packages/keras/src/layers/core/embedding.py:90: UserWarning: Argument `input_length` is deprecated. Just remove it.\n",
      "  warnings.warn(\n"
     ]
    }
   ],
   "source": [
    "model = Sequential([\n",
    "    Embedding(input_dim=vocab_size, output_dim=256, input_length=max_length),  \n",
    "    Conv1D(128, 5, activation='relu'), \n",
    "    GlobalMaxPooling1D(),  \n",
    "    Dropout(0.4),  \n",
    "    Dense(128, activation='relu'),  \n",
    "    Dropout(0.4),\n",
    "    Dense(1, activation='sigmoid')\n",
    "])"
   ]
  },
  {
   "cell_type": "code",
   "execution_count": 5,
   "id": "30fa529c-d048-425e-b961-db6a1b98a9fa",
   "metadata": {},
   "outputs": [
    {
     "name": "stdout",
     "output_type": "stream",
     "text": [
      "Training model...\n",
      "Epoch 1/6\n",
      "40/40 - 52s - 1s/step - accuracy: 0.5968 - loss: 0.6618 - val_accuracy: 0.6772 - val_loss: 0.5717\n",
      "Epoch 2/6\n",
      "40/40 - 57s - 1s/step - accuracy: 0.7742 - loss: 0.4870 - val_accuracy: 0.8410 - val_loss: 0.3617\n",
      "Epoch 3/6\n",
      "40/40 - 62s - 2s/step - accuracy: 0.8702 - loss: 0.3127 - val_accuracy: 0.8896 - val_loss: 0.2725\n",
      "Epoch 4/6\n",
      "40/40 - 63s - 2s/step - accuracy: 0.9330 - loss: 0.1830 - val_accuracy: 0.8942 - val_loss: 0.2662\n",
      "Epoch 5/6\n",
      "40/40 - 54s - 1s/step - accuracy: 0.9696 - loss: 0.0940 - val_accuracy: 0.8944 - val_loss: 0.2826\n",
      "Epoch 6/6\n",
      "40/40 - 67s - 2s/step - accuracy: 0.9864 - loss: 0.0471 - val_accuracy: 0.8922 - val_loss: 0.3322\n"
     ]
    }
   ],
   "source": [
    "optimizer = Adam(learning_rate=0.001)\n",
    "model.compile(loss='binary_crossentropy', optimizer=optimizer, metrics=['accuracy'])\n",
    "early_stop = EarlyStopping(monitor='val_accuracy', patience=2, restore_best_weights=True)\n",
    "print(\"Training model...\")\n",
    "history = model.fit(\n",
    "    x_train, y_train,\n",
    "    epochs=6,  \n",
    "    batch_size=512, \n",
    "    validation_split=0.2,\n",
    "    callbacks=[early_stop],\n",
    "    verbose=2\n",
    ")"
   ]
  },
  {
   "cell_type": "code",
   "execution_count": 6,
   "id": "094192ec-613e-4423-b0a0-e0d6d51f1240",
   "metadata": {},
   "outputs": [
    {
     "name": "stdout",
     "output_type": "stream",
     "text": [
      "\n",
      " Test Accuracy: 88.27%\n"
     ]
    }
   ],
   "source": [
    "loss, acc = model.evaluate(x_test, y_test, verbose=0)\n",
    "print(f'\\n Test Accuracy: {acc * 100:.2f}%')"
   ]
  },
  {
   "cell_type": "code",
   "execution_count": 7,
   "id": "6e97aef1-9502-45c2-a80e-4b71d4409f26",
   "metadata": {},
   "outputs": [
    {
     "name": "stdout",
     "output_type": "stream",
     "text": [
      "\u001b[1m782/782\u001b[0m \u001b[32m━━━━━━━━━━━━━━━━━━━━\u001b[0m\u001b[37m\u001b[0m \u001b[1m18s\u001b[0m 23ms/step\n"
     ]
    }
   ],
   "source": [
    "predictions = model.predict(x_test)\n",
    "predicted_labels = (predictions > 0.5).astype(int).flatten()"
   ]
  },
  {
   "cell_type": "code",
   "execution_count": 8,
   "id": "ea115b8a-7ae4-40c0-9d01-a3e4087d87a0",
   "metadata": {},
   "outputs": [],
   "source": [
    "word_index = imdb.get_word_index()\n",
    "reverse_word_index = {value: key for key, value in word_index.items()}\n",
    "\n",
    "def decode_review(encoded_review):\n",
    "    return ' '.join([reverse_word_index.get(i - 3, '?') for i in encoded_review if i > 2])"
   ]
  },
  {
   "cell_type": "code",
   "execution_count": 9,
   "id": "19e5580e-5299-47ca-9d5b-b75471da2d2e",
   "metadata": {},
   "outputs": [
    {
     "name": "stdout",
     "output_type": "stream",
     "text": [
      "\n",
      "Predicted Results on Test Set:\n",
      "\n",
      "Review 1:\n",
      "please give this one a miss br br kristy swanson and the rest of the cast rendered terrible performances the show is flat flat flat br br i don't know how michael madison could have allowed this one on his plate he almost seemed to know this wasn't going to work out and his performance was quite lacklustre so all you madison fans give this a miss\n",
      "Predicted: Negative | Actual: Negative\n",
      "\n",
      "Review 2:\n",
      "this film requires a lot of patience because it focuses on mood and character development the plot is very simple and many of the scenes take place on the same set in frances austen's the sandy dennis character apartment but the film builds to a disturbing climax br br the characters create an atmosphere rife with sexual tension and psychological trickery it's very interesting that robert altman directed this considering the style and structure of his other films still the trademark altman audio style is evident here and there i think what really makes this film work is the brilliant performance by sandy dennis it's definitely one of her darker characters but she plays it so perfectly and convincingly that it's scary michael burns does a good job as the mute young man regular altman player michael murphy has a small part the moody set fits the content of the story very well in short this movie is a powerful study of loneliness sexual repression and desperation be patient up the atmosphere and pay attention to the wonderfully written script br br i praise robert altman this is one of his many films that deals with unconventional fascinating subject matter this film is disturbing but it's sincere and it's sure to elicit a strong emotional response from the viewer if you want to see an unusual film some might even say bizarre this is worth the time br br unfortunately it's very difficult to find in video stores you may have to buy it off the internet\n",
      "Predicted: Positive | Actual: Positive\n",
      "\n",
      "Review 3:\n",
      "at a time when motion picture animation of all sorts was in its infancy br br the political of the russian revolution caused to move to paris where one of his first productions coincidentally was a dark political satire known as or the frogs who wanted a king a strain of black comedy can be found in almost all of films but here it is very dark indeed aimed more at grown ups who can appreciate the satirical aspects than children who would most likely find the climax upsetting i'm middle aged and found it pretty upsetting myself and indeed prints of the film intended for english speaking viewers of the 1920s were given title cards filled with puns and quips in order to help soften the sharp sting of the finale br br our tale is set in a swamp the where the citizens are unhappy with their government and have called a special session to see what they can do to improve matters they decide to for a king the crowds are impressively animated in this opening sequence it couldn't have been easy to make so many frog puppets look alive simultaneously while for his part is depicted as a droll white bearded guy in the clouds who looks like he'd rather be taking a nap when sends them a tree like god who regards them the frogs decide that this is no improvement and demand a different king irritated sends them a br br delighted with this formidable looking new king who towers above them the frogs welcome him with a of dressed the mayor steps forward to hand him the key to the as newsreel cameras record the event to everyone's horror the promptly eats the mayor and then goes on a merry rampage citizens at random a title card reads news of the king's appetite throughout the kingdom when the now terrified frogs once more for help he loses his temper and showers their community with lightning bolts the moral of our story delivered by a hapless frog just before he is eaten is let well enough alone br br considering the time period when this startling little film was made and considering the fact that it was made by a russian at the height of that beleaguered country's civil war it would be easy to see this as a parable about those events may or may not have had turmoil in mind when he made but whatever prompted his choice of material the film stands as a cautionary tale of universal application could be the soviet union italy germany or japan in the 1930s or any country of any era that lets its guard down and is overwhelmed by tyranny it's a fascinating film even a charming one in its macabre way but its message is no joke\n",
      "Predicted: Positive | Actual: Positive\n",
      "\n",
      "Review 4:\n",
      "i generally love this type of movie however this time i found myself wanting to kick the screen since i can't do that i will just complain about it this was absolutely idiotic the things that happen with the dead kids are very cool but the alive people are absolute idiots i am a grown man pretty big and i can defend myself well however i would not do half the stuff the little girl does in this movie also the mother in this movie is reckless with her children to the point of neglect i wish i wasn't so angry about her and her actions because i would have otherwise enjoyed the flick what a number she was take my advise and fast forward through everything you see her do until the end also is anyone else getting sick of watching movies that are filmed so dark anymore one can hardly see what is being filmed as an audience we are impossibly involved with the actions on the screen so then why the hell can't we have night vision\n",
      "Predicted: Negative | Actual: Negative\n",
      "\n",
      "Review 5:\n",
      "like some other people wrote i'm a die hard mario fan and i loved this game br br this game starts slightly boring but trust me it's worth it as soon as you start your hooked the levels are fun and exiting they will hook you your mind turns to mush i'm not kidding this game is also orchestrated and is beautifully done br br to keep this spoiler free i have to keep my mouth shut about details but please try this game it'll be worth it br br story 9 9 action 10 1 it's that good 10 attention 10 average 10\n",
      "Predicted: Positive | Actual: Positive\n",
      "\n",
      "Review 6:\n",
      "i'm absolutely disgusted this movie isn't being sold all who love this movie should email disney and increase the demand for it they'd eventually have to sell it then i'd buy copies for everybody i know everything and everybody in this movie did a good job and i haven't figured out why disney hasn't put this movie on dvd or on vhs in rental stores at least i haven't seen any copies this is a wicked good movie and should be seen by all the kids in the new generation don't get to see it and i think they should it should at least be put back on the channel this movie doesn't deserve a cheap download it deserves the real thing i'm them now this movie will be on dvd\n",
      "Predicted: Positive | Actual: Positive\n",
      "\n",
      "Review 7:\n",
      "later used by frank capra in mr deeds goes to town and meet john doe but in no one individual is cast as a hero or heroine the story is told through a series of scenes that are combined in a special effect known as montage the editing and selection of short segments to produce a desired effect on the viewer d w griffith also used the montage but no one mastered it so well as eisenstein br br the artistic filming of the crew sleeping in their is by the graceful swinging of tables suspended from chains in the in contrast the confrontation between the crew and their officers is charged with electricity and the fists of the masses demonstrate their rage with injustice br br eisenstein introduced the technique of showing an action and repeating it again but from a slightly different angle to demonstrate intensity the breaking of a plate bearing the words give us this day our daily bread the beginning of the end this technique is used in last year at also when the ship's surgeon is tossed over the side his from the it was these glasses that the officer used to and pass the infested meat this sequence ties the punishment to the corruption of the era br br the most noted sequence in the film and perhaps in all of film history is the steps the broad of the steps are filled with hundreds of extras rapid and dramatic violence is always suggested and not explicit yet the visual images of the deaths of a few will last in the minds of the viewer forever br br the shots of marching boots and legs descending the steps are cleverly with long menacing shadows from a sun at the top of the steps the pace of the sequence is deliberately varied between the marching soldiers and a few civilians who summon up courage to beg them to stop a close up of a woman's face frozen in horror after being struck by a soldier's sword is the direct of the bank teller in bonnie in clyde and gives a lasting impression of the horror of the regime br br the death of a young mother leads to a baby carriage down the steps in a sequence that has been copied by hitchcock in foreign by terry gilliam in brazil and brian depalma in the this sequence is shown repeatedly from various angles thus drawing out what probably was only a five second event br br is a film that the revolutionary spirit celebrates it for those already committed and it for the it of fire and with the senseless injustices of the decadent regime its greatest impact has been on film students who have borrowed and only slightly improved on techniques invented in russia several generations ago\n",
      "Predicted: Positive | Actual: Positive\n",
      "\n",
      "Review 8:\n",
      "the emperor's richard dog is to joan fontaine dog however when bing crosby arrives in town to sell a record player to the emperor his dog is attacked by dog after a revenge attack where is banished from town a insists that dog must confront dog so that she can overcome her fears this is arranged and the dogs fall in love so do and the rest of the film passes by with romance and at the end dog gives birth but who is the father br br the dog story is the very weak vehicle that is used to try and create a story between humans its a terrible storyline there are 3 main musical pieces all of which are rubbish bad songs and dreadful choreography its just an extremely boring film bing has too many words in each sentence and delivers them in an almost irritating manner its not funny ever but its meant to be bing and joan have done much better than this\n",
      "Predicted: Negative | Actual: Negative\n",
      "\n",
      "Review 10:\n",
      "this film is where the batman franchise ought to have stopped though i will concede that the ideas behind batman forever were excellent and could have been easily realised by a competent director as it turned out this was not to be the case br br apparently warner brothers executives were disappointed with how dark this second batman film from tim burton turned out apart from the idiocy of expecting anything else from burton and the conservative of their subsequent decision to turn the franchise into an homage to the sixties tv series i fail to understand how batman returns can be considered at all disappointing br br true it is not quite the equal of the first film though it all the minor deficiencies of style found in batman a weaker script that splits the between not just two but three characters invites unflattering comparisons to the masterful pairing of keaton and jack nicholson as the joker in the first film yet for all this it remains a gorgeously dark film true to the way the batman was always meant to be and highly satisfying br br michael keaton returns as the batman and his alter ego bruce wayne with tycoon max christopher walken named in honour of the 1920s german silent actor his partner in crime oswald the penguin danny devito in brilliant makeup reminiscent of laurence olivier's richard iii and kyle the catwoman michelle pfeiffer whom wayne romances both as himself and as the batman the four principals turn in excellent performances especially walken and devito while together keaton and pfeiffer explore the darker side of double identities br br there are some intriguing concepts in this film about the only weakness i can really point out is a certain to the script in some places which i think is due mostly to the way this film is a four cornered fight there simply isn't enough time to properly explore what's going on br br nevertheless this is a damn good film i highly recommend watching this in with the first and then weeping for how good the series could have been had it continued under burton and keaton\n",
      "Predicted: Positive | Actual: Positive\n"
     ]
    }
   ],
   "source": [
    "print(\"\\nPredicted Results on Test Set:\")\n",
    "for i in range(10):\n",
    "    if i == 8:\n",
    "        continue\n",
    "    print(f\"\\nReview {i+1}:\")\n",
    "    print(decode_review(x_test[i]))\n",
    "    print(f\"Predicted: {'Positive' if predicted_labels[i] == 1 else 'Negative'} | Actual: {'Positive' if y_test[i] == 1 else 'Negative'}\")\n"
   ]
  },
  {
   "cell_type": "code",
   "execution_count": null,
   "id": "f7ad7881-1c0a-4efc-b895-3c6e1e5fadfe",
   "metadata": {},
   "outputs": [],
   "source": []
  }
 ],
 "metadata": {
  "kernelspec": {
   "display_name": "base",
   "language": "python",
   "name": "python3"
  },
  "language_info": {
   "codemirror_mode": {
    "name": "ipython",
    "version": 3
   },
   "file_extension": ".py",
   "mimetype": "text/x-python",
   "name": "python",
   "nbconvert_exporter": "python",
   "pygments_lexer": "ipython3",
   "version": "3.12.7"
  }
 },
 "nbformat": 4,
 "nbformat_minor": 5
}
